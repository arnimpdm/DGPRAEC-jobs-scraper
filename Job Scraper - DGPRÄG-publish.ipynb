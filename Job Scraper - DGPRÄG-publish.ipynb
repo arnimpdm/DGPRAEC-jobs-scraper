{
  "cells": [
    {
      "metadata": {},
      "cell_type": "markdown",
      "source": "Loading of all necessary packages"
    },
    {
      "metadata": {
        "trusted": true
      },
      "cell_type": "code",
      "source": "#import necessary packages\nimport pandas as pd\nfrom bs4 import BeautifulSoup\nfrom requests import get\nimport re\nfrom bs4 import BeautifulSoup\nfrom time import time\nfrom time import sleep\nfrom random import randint\nfrom IPython.core.display import clear_output\nfrom warnings import warn\nfrom datetime import datetime\nimport csv\nfrom tabulate import tabulate\nfrom email.mime.multipart import MIMEMultipart\nfrom email.mime.text import MIMEText\nimport smtplib",
      "execution_count": 86,
      "outputs": []
    },
    {
      "metadata": {},
      "cell_type": "markdown",
      "source": "This Notebook has the aim to scrape data from a job site and send it via email to someone"
    },
    {
      "metadata": {},
      "cell_type": "markdown",
      "source": "Steps:\n    1. Extract (ID, Beschreibung, Datum, Link)\n    2. Setup email and send"
    },
    {
      "metadata": {},
      "cell_type": "markdown",
      "source": "#    1. Extract (ID, Beschreibung, Datum, Link)"
    },
    {
      "metadata": {},
      "cell_type": "markdown",
      "source": "We start with the scraper, he will open the website and scrape the possible 10 pages of the job page."
    },
    {
      "metadata": {
        "trusted": true
      },
      "cell_type": "code",
      "source": "#Set the variables for the scraper\nheaders = {\"Accept-Language\": \"en-US, en;q=0.5\"}\n\n#We use 10 pages for our scraper\npages = [str(i) for i in range(1,10)]",
      "execution_count": 87,
      "outputs": []
    },
    {
      "metadata": {
        "trusted": true
      },
      "cell_type": "code",
      "source": "# List to store data in\nIDs = []\nDates = []\nTitles = []\nLinks = []\nDescriptions = []\n\n# Preparing the monitoring of the loop\nstart_time = time()\nrequests = 0\n\n# For every page in the interval 1-5\nfor page in pages:\n\n    # Make a get request\n    response = get('https://www.dgpraec.de/jobboerse/page/' + page, headers = headers)\n\n    # Pause the loop\n    sleep(randint(8,15))\n\n    # Monitor the requests\n    requests += 1\n    elapsed_time = time() - start_time\n    print('Request:{}; Frequency: {} requests/s'.format(requests, requests/elapsed_time))\n    clear_output(wait = True)\n\n    # Throw a warning for non-200 status codes\n    if response.status_code != 200:\n        warn('Request: {}; Status code: {}'.format(requests, response.status_code))\n\n    # Break the loop if the number of requests is greater than expected\n    if requests > 72:\n        warn('Number of requests was greater than expected.')  \n        break \n\n    # Parse the content of the request with BeautifulSoup\n    page_html = BeautifulSoup(response.text, 'html.parser')\n\n    # Select all the Job containers from a single page\n    job_container = page_html.find_all('article', class_ =lambda value: value and value.startswith(\"post-\"))\n\n    # For every job of these\n    for container in job_container:\n    \n        # IDs\n        ID = container.get('id')\n        IDs.append(ID)\n        \n        #Dates\n        Date = container.div.text\n        Dates.append(str(Date))\n        \n        #Titles\n        Title = container.a.text\n        Titles.append(Title)\n        \n        #Links\n        Link = container.find_all('a')\n        Links.append(Link)\n        \n        #Descriptions\n        Description = container.p.text\n        Descriptions.append(Description)",
      "execution_count": 88,
      "outputs": [
        {
          "output_type": "stream",
          "text": "Request:4; Frequency: 0.06518174916027566 requests/s\n",
          "name": "stdout"
        }
      ]
    },
    {
      "metadata": {
        "trusted": true
      },
      "cell_type": "code",
      "source": "#Create dataframe and add the data\nJob_list = pd.DataFrame({'ID': IDs, \n                        'Date': Dates,\n                        'Title': Titles,\n                        'Link': Links,\n                        'Description': Descriptions})\nprint(Job_list.info())\nJob_list",
      "execution_count": 89,
      "outputs": [
        {
          "output_type": "stream",
          "text": "<class 'pandas.core.frame.DataFrame'>\nRangeIndex: 38 entries, 0 to 37\nData columns (total 5 columns):\nDate           38 non-null object\nDescription    38 non-null object\nID             38 non-null object\nLink           38 non-null object\nTitle          38 non-null object\ndtypes: object(5)\nmemory usage: 1.6+ KB\nNone\n",
          "name": "stdout"
        },
        {
          "output_type": "execute_result",
          "execution_count": 89,
          "data": {
            "text/plain": "                                               Date  \\\n0       \\n                15. März 2019               \n1       \\n                14. März 2019               \n2       \\n                14. März 2019               \n3       \\n                14. März 2019               \n4       \\n                13. März 2019               \n5       \\n                13. März 2019               \n6       \\n                12. März 2019               \n7       \\n                11. März 2019               \n8        \\n                7. März 2019               \n9        \\n                5. März 2019               \n10       \\n                5. März 2019               \n11       \\n                4. März 2019               \n12       \\n                1. März 2019               \n13       \\n                1. März 2019               \n14   \\n                25. Februar 2019               \n15   \\n                19. Februar 2019               \n16   \\n                18. Februar 2019               \n17   \\n                18. Februar 2019               \n18   \\n                13. Februar 2019               \n19   \\n                12. Februar 2019               \n20   \\n                12. Februar 2019               \n21   \\n                11. Februar 2019               \n22   \\n                11. Februar 2019               \n23    \\n                7. Februar 2019               \n24    \\n                6. Februar 2019               \n25    \\n                30. Januar 2019               \n26    \\n                23. Januar 2019               \n27    \\n                22. Januar 2019               \n28    \\n                22. Januar 2019               \n29    \\n                17. Januar 2019               \n30    \\n                16. Januar 2019               \n31    \\n                16. Januar 2019               \n32    \\n                16. Januar 2019               \n33    \\n                15. Januar 2019               \n34     \\n                9. Januar 2019               \n35     \\n                7. Januar 2019               \n36     \\n                7. Januar 2019               \n37  \\n                22. November 2018               \n\n                                          Description         ID  \\\n0   Universitätsklinikum Leipzig, Bereich Plastisc...  post-6007   \n1   Die Klinik für Plastische Chirurgie, Hand- und...  post-5998   \n2   Unsere renommierte Privatpraxis im Südwesten i...  post-5995   \n3   Im Rahmen einer Stellennachbesetzung ist vorau...  post-5989   \n4   Wir, die Alster-Klinik, sind eine Privatklinik...  post-5979   \n5   Die Klinikum Ernst von Bergmann Klinik gGmbH s...  post-5968   \n6   Für unsere Klinik für Plastische, Hand- und wi...  post-5946   \n7   Für die Klinik für Plastische, Ästhetische und...  post-5941   \n8   Wir bieten: bestens eingeführte Praxis seit üb...  post-5932   \n9   Das Alfried Krupp Krankenhaus gehört mit 900 B...  post-5928   \n10  Wir suchen eine(n) Facharzt/Fachärztin für Pla...  post-5916   \n11  Die Klinikum Lippe GmbH ist Träger der beiden ...  post-5909   \n12  Die Klinik für Plastische und Ästhetische Chir...  post-5897   \n13  Die Klinik für Plastische und Ästhetische Chir...  post-5892   \n14  In unserer Privatklinik für plastische und äst...  post-5868   \n15  Engagierte/r Facharzt/ Fachärztin für Plastisc...  post-5520   \n16  Das Klinikum Magdeburg ist ein führendes Akutk...  post-5512   \n17  Die Bergmannsheil und Kinderklinik Buer GmbH s...  post-5508   \n18  Zur Verstärkung unseres Teams der Chirurgische...  post-5500   \n19  Universitätsklinikum Leipzig, Bereich Plastisc...  post-5494   \n20  Fachklinik für operative Lymphologie in Köln –...  post-5478   \n21  Die Nürnberger Klinik für Ästhetisch-Plastisch...  post-5472   \n22  Zum nächstmöglichen Zeitpunkt sucht die Heidel...  post-5470   \n23  Für die Klinik für Plastische und Ästhetische ...  post-5467   \n24  Wir sind eine Privatpraxis für ästhetische Chi...  post-5465   \n25  Das Klinikum Magdeburg ist ein führendes Akutk...  post-5447   \n26  Die Klinik für Plastische Chirurgie, Handchiru...  post-5433   \n27  Wir sind eine etablierte Praxisklinik mit dem ...  post-5431   \n28  Beschreibung der Klinik Das HELIOS-Klinikum Kr...  post-5429   \n29  Das Klinikum rechts der Isar der Technischen U...  post-5405   \n30  Das Klinikum Magdeburg ist ein führendes Akutk...  post-5403   \n31  Das Städtische Klinikum Dresden verfügt über 1...  post-5401   \n32  Private Praxisklinik für Plastische und Ästhet...  post-4997   \n33  Wir suchen zum nächst möglichen Zeitpunkt eine...  post-5394   \n34  Die Abteilung für Plastische Chirurgie und Han...  post-5376   \n35  Die KÖ-KLINIK GmbH sucht zum nächstmöglichen Z...  post-5295   \n36  Für unsere Klinik für Handchirurgie und angebo...  post-5289   \n37  Das Hochschulzentrum für Plastische-, Hand-, u...  post-5022   \n\n                                                 Link  \\\n0   [<a href=\"https://www.dgpraec.de/jobs/facharzt...   \n1   [<a href=\"https://www.dgpraec.de/jobs/oberaerz...   \n2   [<a href=\"https://www.dgpraec.de/jobs/fachaerz...   \n3   [<a href=\"https://www.dgpraec.de/jobs/assisten...   \n4   [<a href=\"https://www.dgpraec.de/jobs/facharzt...   \n5   [<a href=\"https://www.dgpraec.de/jobs/oberarzt...   \n6   [<a href=\"https://www.dgpraec.de/jobs/oberarzt...   \n7   [<a href=\"https://www.dgpraec.de/jobs/assisten...   \n8   [<a href=\"https://www.dgpraec.de/jobs/praxissi...   \n9   [<a href=\"https://www.dgpraec.de/jobs/assisten...   \n10  [<a href=\"https://www.dgpraec.de/jobs/facharzt...   \n11  [<a href=\"https://www.dgpraec.de/jobs/oberarzt...   \n12  [<a href=\"https://www.dgpraec.de/jobs/facharzt...   \n13  [<a href=\"https://www.dgpraec.de/jobs/assisten...   \n14  [<a href=\"https://www.dgpraec.de/jobs/fachaerz...   \n15  [<a href=\"https://www.dgpraec.de/jobs/fachaerz...   \n16  [<a href=\"https://www.dgpraec.de/jobs/assisten...   \n17  [<a href=\"https://www.dgpraec.de/jobs/oberaerz...   \n18  [<a href=\"https://www.dgpraec.de/jobs/fachaerz...   \n19  [<a href=\"https://www.dgpraec.de/jobs/weiterbi...   \n20  [<a href=\"https://www.dgpraec.de/jobs/fachklin...   \n21  [<a href=\"https://www.dgpraec.de/jobs/assisten...   \n22  [<a href=\"https://www.dgpraec.de/jobs/facharzt...   \n23  [<a href=\"https://www.dgpraec.de/jobs/assisten...   \n24  [<a href=\"https://www.dgpraec.de/jobs/privatpr...   \n25  [<a href=\"https://www.dgpraec.de/jobs/oberarzt...   \n26  [<a href=\"https://www.dgpraec.de/jobs/oberarzt...   \n27  [<a href=\"https://www.dgpraec.de/jobs/moeglich...   \n28  [<a href=\"https://www.dgpraec.de/jobs/arzt-in-...   \n29  [<a href=\"https://www.dgpraec.de/jobs/oberarzt...   \n30  [<a href=\"https://www.dgpraec.de/jobs/oberarzt...   \n31  [<a href=\"https://www.dgpraec.de/jobs/facharzt...   \n32  [<a href=\"https://www.dgpraec.de/jobs/facharzt...   \n33  [<a href=\"https://www.dgpraec.de/jobs/assisten...   \n34  [<a href=\"https://www.dgpraec.de/jobs/facharzt...   \n35  [<a href=\"https://www.dgpraec.de/jobs/fachaerz...   \n36  [<a href=\"https://www.dgpraec.de/jobs/assisten...   \n37  [<a href=\"https://www.dgpraec.de/jobs/fachaerz...   \n\n                                                Title  \n0                         Facharzt in Leipzig gesucht  \n1                Oberärztin/-arzt in Hannover gesucht  \n2   Fachärztin / Facharzt für Plastische & Ästheti...  \n3   Assistenzarzt/-ärztin Handchirurgie oder Plast...  \n4   Facharzt/in für Plastische und Ästhetische Chi...  \n5   Oberarzt / Oberärztin für die  Abteilung der P...  \n6   Oberarzt (w/m) für Plastische und Ästhetische ...  \n7            Assistenzarzt (m/w/d) in Wetzlar gesucht  \n8   Praxissitz in Gemeinschaftspraxis für Plastisc...  \n9   Assistenzarzt (m/w/d) für die Plastische Chiru...  \n10  Facharzt/Fachärztin für Privatklinik in Essen ...  \n11  Oberarzt (m/w) bzw. Funktionsoberarzt (m/w) in...  \n12  Facharzt/Fachärztin gesucht für die Klinik für...  \n13  Assistenzarzt gesucht für die Klinik für Plast...  \n14  Fachärztin / Facharzt in Düsseldorfer Privatkl...  \n15  Fachärztin/-arzt für Privatpraxis in Hannover ...  \n16  Assistenzarzt für Plastische, Ästhetische und ...  \n17  Oberärztin/arzt (m/w) in der Klinik für Plasti...  \n18  Fachärztin/-arzt als Oberarzt für Klinik in Sc...  \n19  Weiterbildungsassistent/in oder Facharzt in Le...  \n20  Fachklinik für operative Lymphologie in Köln s...  \n21  Assistenzarzt/-ärztin (m/w/d) für Plastische u...  \n22  Facharzt/-ärztin für Plastische und Ästhetisch...  \n23  Assistenzarzt-/ Facharzt (w/m) für die Klinik ...  \n24  Privatpraxis im Saarland sucht Verstärkung für...  \n25              Oberarzt (w/m/d) in Magdeburg gesucht  \n26  Oberarzt / Oberärztin im Universitätsklinikum ...  \n27  Möglichkeit zur Partnerschaft in etablierter P...  \n28  Arzt in Weiterbildung (m/w) Plastische und Äst...  \n29             Oberarzt/Oberärztin in München gesucht  \n30  Oberarzt (w/m/d) Handchirurgie in Magdeburg ge...  \n31  Facharzt oder erfahrener Assistenzarzt (m/w/i)...  \n32  Facharzt/-ärztin Plastische Chirurgie für Priv...  \n33  Assistenzarzt zur Weiterbildung (w/m/d) in Bon...  \n34  Facharzt /ärztin für Plastische und Ästhetisch...  \n35  Fachärztin/Facharzt für Plastische und Ästheti...  \n36  Assistenzärztin / Assistenzarzt in Braunschwei...  \n37          Fachärztin/Facharzt in Regensburg gesucht  ",
            "text/html": "<div>\n<table border=\"1\" class=\"dataframe\">\n  <thead>\n    <tr style=\"text-align: right;\">\n      <th></th>\n      <th>Date</th>\n      <th>Description</th>\n      <th>ID</th>\n      <th>Link</th>\n      <th>Title</th>\n    </tr>\n  </thead>\n  <tbody>\n    <tr>\n      <th>0</th>\n      <td>\\n                15. März 2019</td>\n      <td>Universitätsklinikum Leipzig, Bereich Plastisc...</td>\n      <td>post-6007</td>\n      <td>[&lt;a href=\"https://www.dgpraec.de/jobs/facharzt...</td>\n      <td>Facharzt in Leipzig gesucht</td>\n    </tr>\n    <tr>\n      <th>1</th>\n      <td>\\n                14. März 2019</td>\n      <td>Die Klinik für Plastische Chirurgie, Hand- und...</td>\n      <td>post-5998</td>\n      <td>[&lt;a href=\"https://www.dgpraec.de/jobs/oberaerz...</td>\n      <td>Oberärztin/-arzt in Hannover gesucht</td>\n    </tr>\n    <tr>\n      <th>2</th>\n      <td>\\n                14. März 2019</td>\n      <td>Unsere renommierte Privatpraxis im Südwesten i...</td>\n      <td>post-5995</td>\n      <td>[&lt;a href=\"https://www.dgpraec.de/jobs/fachaerz...</td>\n      <td>Fachärztin / Facharzt für Plastische &amp; Ästheti...</td>\n    </tr>\n    <tr>\n      <th>3</th>\n      <td>\\n                14. März 2019</td>\n      <td>Im Rahmen einer Stellennachbesetzung ist vorau...</td>\n      <td>post-5989</td>\n      <td>[&lt;a href=\"https://www.dgpraec.de/jobs/assisten...</td>\n      <td>Assistenzarzt/-ärztin Handchirurgie oder Plast...</td>\n    </tr>\n    <tr>\n      <th>4</th>\n      <td>\\n                13. März 2019</td>\n      <td>Wir, die Alster-Klinik, sind eine Privatklinik...</td>\n      <td>post-5979</td>\n      <td>[&lt;a href=\"https://www.dgpraec.de/jobs/facharzt...</td>\n      <td>Facharzt/in für Plastische und Ästhetische Chi...</td>\n    </tr>\n    <tr>\n      <th>5</th>\n      <td>\\n                13. März 2019</td>\n      <td>Die Klinikum Ernst von Bergmann Klinik gGmbH s...</td>\n      <td>post-5968</td>\n      <td>[&lt;a href=\"https://www.dgpraec.de/jobs/oberarzt...</td>\n      <td>Oberarzt / Oberärztin für die  Abteilung der P...</td>\n    </tr>\n    <tr>\n      <th>6</th>\n      <td>\\n                12. März 2019</td>\n      <td>Für unsere Klinik für Plastische, Hand- und wi...</td>\n      <td>post-5946</td>\n      <td>[&lt;a href=\"https://www.dgpraec.de/jobs/oberarzt...</td>\n      <td>Oberarzt (w/m) für Plastische und Ästhetische ...</td>\n    </tr>\n    <tr>\n      <th>7</th>\n      <td>\\n                11. März 2019</td>\n      <td>Für die Klinik für Plastische, Ästhetische und...</td>\n      <td>post-5941</td>\n      <td>[&lt;a href=\"https://www.dgpraec.de/jobs/assisten...</td>\n      <td>Assistenzarzt (m/w/d) in Wetzlar gesucht</td>\n    </tr>\n    <tr>\n      <th>8</th>\n      <td>\\n                7. März 2019</td>\n      <td>Wir bieten: bestens eingeführte Praxis seit üb...</td>\n      <td>post-5932</td>\n      <td>[&lt;a href=\"https://www.dgpraec.de/jobs/praxissi...</td>\n      <td>Praxissitz in Gemeinschaftspraxis für Plastisc...</td>\n    </tr>\n    <tr>\n      <th>9</th>\n      <td>\\n                5. März 2019</td>\n      <td>Das Alfried Krupp Krankenhaus gehört mit 900 B...</td>\n      <td>post-5928</td>\n      <td>[&lt;a href=\"https://www.dgpraec.de/jobs/assisten...</td>\n      <td>Assistenzarzt (m/w/d) für die Plastische Chiru...</td>\n    </tr>\n    <tr>\n      <th>10</th>\n      <td>\\n                5. März 2019</td>\n      <td>Wir suchen eine(n) Facharzt/Fachärztin für Pla...</td>\n      <td>post-5916</td>\n      <td>[&lt;a href=\"https://www.dgpraec.de/jobs/facharzt...</td>\n      <td>Facharzt/Fachärztin für Privatklinik in Essen ...</td>\n    </tr>\n    <tr>\n      <th>11</th>\n      <td>\\n                4. März 2019</td>\n      <td>Die Klinikum Lippe GmbH ist Träger der beiden ...</td>\n      <td>post-5909</td>\n      <td>[&lt;a href=\"https://www.dgpraec.de/jobs/oberarzt...</td>\n      <td>Oberarzt (m/w) bzw. Funktionsoberarzt (m/w) in...</td>\n    </tr>\n    <tr>\n      <th>12</th>\n      <td>\\n                1. März 2019</td>\n      <td>Die Klinik für Plastische und Ästhetische Chir...</td>\n      <td>post-5897</td>\n      <td>[&lt;a href=\"https://www.dgpraec.de/jobs/facharzt...</td>\n      <td>Facharzt/Fachärztin gesucht für die Klinik für...</td>\n    </tr>\n    <tr>\n      <th>13</th>\n      <td>\\n                1. März 2019</td>\n      <td>Die Klinik für Plastische und Ästhetische Chir...</td>\n      <td>post-5892</td>\n      <td>[&lt;a href=\"https://www.dgpraec.de/jobs/assisten...</td>\n      <td>Assistenzarzt gesucht für die Klinik für Plast...</td>\n    </tr>\n    <tr>\n      <th>14</th>\n      <td>\\n                25. Februar 2019</td>\n      <td>In unserer Privatklinik für plastische und äst...</td>\n      <td>post-5868</td>\n      <td>[&lt;a href=\"https://www.dgpraec.de/jobs/fachaerz...</td>\n      <td>Fachärztin / Facharzt in Düsseldorfer Privatkl...</td>\n    </tr>\n    <tr>\n      <th>15</th>\n      <td>\\n                19. Februar 2019</td>\n      <td>Engagierte/r Facharzt/ Fachärztin für Plastisc...</td>\n      <td>post-5520</td>\n      <td>[&lt;a href=\"https://www.dgpraec.de/jobs/fachaerz...</td>\n      <td>Fachärztin/-arzt für Privatpraxis in Hannover ...</td>\n    </tr>\n    <tr>\n      <th>16</th>\n      <td>\\n                18. Februar 2019</td>\n      <td>Das Klinikum Magdeburg ist ein führendes Akutk...</td>\n      <td>post-5512</td>\n      <td>[&lt;a href=\"https://www.dgpraec.de/jobs/assisten...</td>\n      <td>Assistenzarzt für Plastische, Ästhetische und ...</td>\n    </tr>\n    <tr>\n      <th>17</th>\n      <td>\\n                18. Februar 2019</td>\n      <td>Die Bergmannsheil und Kinderklinik Buer GmbH s...</td>\n      <td>post-5508</td>\n      <td>[&lt;a href=\"https://www.dgpraec.de/jobs/oberaerz...</td>\n      <td>Oberärztin/arzt (m/w) in der Klinik für Plasti...</td>\n    </tr>\n    <tr>\n      <th>18</th>\n      <td>\\n                13. Februar 2019</td>\n      <td>Zur Verstärkung unseres Teams der Chirurgische...</td>\n      <td>post-5500</td>\n      <td>[&lt;a href=\"https://www.dgpraec.de/jobs/fachaerz...</td>\n      <td>Fachärztin/-arzt als Oberarzt für Klinik in Sc...</td>\n    </tr>\n    <tr>\n      <th>19</th>\n      <td>\\n                12. Februar 2019</td>\n      <td>Universitätsklinikum Leipzig, Bereich Plastisc...</td>\n      <td>post-5494</td>\n      <td>[&lt;a href=\"https://www.dgpraec.de/jobs/weiterbi...</td>\n      <td>Weiterbildungsassistent/in oder Facharzt in Le...</td>\n    </tr>\n    <tr>\n      <th>20</th>\n      <td>\\n                12. Februar 2019</td>\n      <td>Fachklinik für operative Lymphologie in Köln –...</td>\n      <td>post-5478</td>\n      <td>[&lt;a href=\"https://www.dgpraec.de/jobs/fachklin...</td>\n      <td>Fachklinik für operative Lymphologie in Köln s...</td>\n    </tr>\n    <tr>\n      <th>21</th>\n      <td>\\n                11. Februar 2019</td>\n      <td>Die Nürnberger Klinik für Ästhetisch-Plastisch...</td>\n      <td>post-5472</td>\n      <td>[&lt;a href=\"https://www.dgpraec.de/jobs/assisten...</td>\n      <td>Assistenzarzt/-ärztin (m/w/d) für Plastische u...</td>\n    </tr>\n    <tr>\n      <th>22</th>\n      <td>\\n                11. Februar 2019</td>\n      <td>Zum nächstmöglichen Zeitpunkt sucht die Heidel...</td>\n      <td>post-5470</td>\n      <td>[&lt;a href=\"https://www.dgpraec.de/jobs/facharzt...</td>\n      <td>Facharzt/-ärztin für Plastische und Ästhetisch...</td>\n    </tr>\n    <tr>\n      <th>23</th>\n      <td>\\n                7. Februar 2019</td>\n      <td>Für die Klinik für Plastische und Ästhetische ...</td>\n      <td>post-5467</td>\n      <td>[&lt;a href=\"https://www.dgpraec.de/jobs/assisten...</td>\n      <td>Assistenzarzt-/ Facharzt (w/m) für die Klinik ...</td>\n    </tr>\n    <tr>\n      <th>24</th>\n      <td>\\n                6. Februar 2019</td>\n      <td>Wir sind eine Privatpraxis für ästhetische Chi...</td>\n      <td>post-5465</td>\n      <td>[&lt;a href=\"https://www.dgpraec.de/jobs/privatpr...</td>\n      <td>Privatpraxis im Saarland sucht Verstärkung für...</td>\n    </tr>\n    <tr>\n      <th>25</th>\n      <td>\\n                30. Januar 2019</td>\n      <td>Das Klinikum Magdeburg ist ein führendes Akutk...</td>\n      <td>post-5447</td>\n      <td>[&lt;a href=\"https://www.dgpraec.de/jobs/oberarzt...</td>\n      <td>Oberarzt (w/m/d) in Magdeburg gesucht</td>\n    </tr>\n    <tr>\n      <th>26</th>\n      <td>\\n                23. Januar 2019</td>\n      <td>Die Klinik für Plastische Chirurgie, Handchiru...</td>\n      <td>post-5433</td>\n      <td>[&lt;a href=\"https://www.dgpraec.de/jobs/oberarzt...</td>\n      <td>Oberarzt / Oberärztin im Universitätsklinikum ...</td>\n    </tr>\n    <tr>\n      <th>27</th>\n      <td>\\n                22. Januar 2019</td>\n      <td>Wir sind eine etablierte Praxisklinik mit dem ...</td>\n      <td>post-5431</td>\n      <td>[&lt;a href=\"https://www.dgpraec.de/jobs/moeglich...</td>\n      <td>Möglichkeit zur Partnerschaft in etablierter P...</td>\n    </tr>\n    <tr>\n      <th>28</th>\n      <td>\\n                22. Januar 2019</td>\n      <td>Beschreibung der Klinik Das HELIOS-Klinikum Kr...</td>\n      <td>post-5429</td>\n      <td>[&lt;a href=\"https://www.dgpraec.de/jobs/arzt-in-...</td>\n      <td>Arzt in Weiterbildung (m/w) Plastische und Äst...</td>\n    </tr>\n    <tr>\n      <th>29</th>\n      <td>\\n                17. Januar 2019</td>\n      <td>Das Klinikum rechts der Isar der Technischen U...</td>\n      <td>post-5405</td>\n      <td>[&lt;a href=\"https://www.dgpraec.de/jobs/oberarzt...</td>\n      <td>Oberarzt/Oberärztin in München gesucht</td>\n    </tr>\n    <tr>\n      <th>30</th>\n      <td>\\n                16. Januar 2019</td>\n      <td>Das Klinikum Magdeburg ist ein führendes Akutk...</td>\n      <td>post-5403</td>\n      <td>[&lt;a href=\"https://www.dgpraec.de/jobs/oberarzt...</td>\n      <td>Oberarzt (w/m/d) Handchirurgie in Magdeburg ge...</td>\n    </tr>\n    <tr>\n      <th>31</th>\n      <td>\\n                16. Januar 2019</td>\n      <td>Das Städtische Klinikum Dresden verfügt über 1...</td>\n      <td>post-5401</td>\n      <td>[&lt;a href=\"https://www.dgpraec.de/jobs/facharzt...</td>\n      <td>Facharzt oder erfahrener Assistenzarzt (m/w/i)...</td>\n    </tr>\n    <tr>\n      <th>32</th>\n      <td>\\n                16. Januar 2019</td>\n      <td>Private Praxisklinik für Plastische und Ästhet...</td>\n      <td>post-4997</td>\n      <td>[&lt;a href=\"https://www.dgpraec.de/jobs/facharzt...</td>\n      <td>Facharzt/-ärztin Plastische Chirurgie für Priv...</td>\n    </tr>\n    <tr>\n      <th>33</th>\n      <td>\\n                15. Januar 2019</td>\n      <td>Wir suchen zum nächst möglichen Zeitpunkt eine...</td>\n      <td>post-5394</td>\n      <td>[&lt;a href=\"https://www.dgpraec.de/jobs/assisten...</td>\n      <td>Assistenzarzt zur Weiterbildung (w/m/d) in Bon...</td>\n    </tr>\n    <tr>\n      <th>34</th>\n      <td>\\n                9. Januar 2019</td>\n      <td>Die Abteilung für Plastische Chirurgie und Han...</td>\n      <td>post-5376</td>\n      <td>[&lt;a href=\"https://www.dgpraec.de/jobs/facharzt...</td>\n      <td>Facharzt /ärztin für Plastische und Ästhetisch...</td>\n    </tr>\n    <tr>\n      <th>35</th>\n      <td>\\n                7. Januar 2019</td>\n      <td>Die KÖ-KLINIK GmbH sucht zum nächstmöglichen Z...</td>\n      <td>post-5295</td>\n      <td>[&lt;a href=\"https://www.dgpraec.de/jobs/fachaerz...</td>\n      <td>Fachärztin/Facharzt für Plastische und Ästheti...</td>\n    </tr>\n    <tr>\n      <th>36</th>\n      <td>\\n                7. Januar 2019</td>\n      <td>Für unsere Klinik für Handchirurgie und angebo...</td>\n      <td>post-5289</td>\n      <td>[&lt;a href=\"https://www.dgpraec.de/jobs/assisten...</td>\n      <td>Assistenzärztin / Assistenzarzt in Braunschwei...</td>\n    </tr>\n    <tr>\n      <th>37</th>\n      <td>\\n                22. November 2018</td>\n      <td>Das Hochschulzentrum für Plastische-, Hand-, u...</td>\n      <td>post-5022</td>\n      <td>[&lt;a href=\"https://www.dgpraec.de/jobs/fachaerz...</td>\n      <td>Fachärztin/Facharzt in Regensburg gesucht</td>\n    </tr>\n  </tbody>\n</table>\n</div>"
          },
          "metadata": {}
        }
      ]
    },
    {
      "metadata": {
        "trusted": true
      },
      "cell_type": "code",
      "source": "#Cleaning of the date\nJob_list['Date'] = Job_list.Date.str.strip()\nJob_list['Date'] = Job_list.Date.str.replace('Januar', 'January')\nJob_list['Date'] = Job_list.Date.str.replace('Februar', 'February')\nJob_list['Date'] = Job_list.Date.str.replace('März', 'March')\nJob_list['Date'] = Job_list.Date.str.replace('April', 'April')\nJob_list['Date'] = Job_list.Date.str.replace('Mai', 'May')\nJob_list['Date'] = Job_list.Date.str.replace('Juni', 'June')\nJob_list['Date'] = Job_list.Date.str.replace('Juli', 'July')\nJob_list['Date'] = Job_list.Date.str.replace('August', 'August')\nJob_list['Date'] = Job_list.Date.str.replace('September', 'September')\nJob_list['Date'] = Job_list.Date.str.replace('Oktober', 'October')\nJob_list['Date'] = Job_list.Date.str.replace('November', 'November')\nJob_list['Date'] = Job_list.Date.str.replace('Dezember', 'December')\nJob_list['Date'] = pd.to_datetime(Job_list.Date)\nJob_list['Date']",
      "execution_count": 91,
      "outputs": [
        {
          "output_type": "execute_result",
          "execution_count": 91,
          "data": {
            "text/plain": "0    2019-03-15\n1    2019-03-14\n2    2019-03-14\n3    2019-03-14\n4    2019-03-13\n5    2019-03-13\n6    2019-03-12\n7    2019-03-11\n8    2019-03-07\n9    2019-03-05\n10   2019-03-05\n11   2019-03-04\n12   2019-03-01\n13   2019-03-01\n14   2019-02-25\n15   2019-02-19\n16   2019-02-18\n17   2019-02-18\n18   2019-02-13\n19   2019-02-12\n20   2019-02-12\n21   2019-02-11\n22   2019-02-11\n23   2019-02-07\n24   2019-02-06\n25   2019-01-30\n26   2019-01-23\n27   2019-01-22\n28   2019-01-22\n29   2019-01-17\n30   2019-01-16\n31   2019-01-16\n32   2019-01-16\n33   2019-01-15\n34   2019-01-09\n35   2019-01-07\n36   2019-01-07\n37   2018-11-22\nName: Date, dtype: datetime64[ns]"
          },
          "metadata": {}
        }
      ]
    },
    {
      "metadata": {},
      "cell_type": "markdown",
      "source": "#    2. Setup email and send"
    },
    {
      "metadata": {},
      "cell_type": "markdown",
      "source": "We need an algorithm which goes as follows -if the script will be run daily-: If one of the ids in the new list will matched with the new result, then send email"
    },
    {
      "metadata": {
        "trusted": true
      },
      "cell_type": "code",
      "source": "#We load the old results into our script.\nJob_list_old = pd.read_csv('Output_old.CSV', engine='python', encoding='utf-8', index_col=0)\nprint(Job_list_old.head(5))",
      "execution_count": 98,
      "outputs": [
        {
          "output_type": "stream",
          "text": "         Date                                        Description         ID  \\\n0  2019-03-15  Universitätsklinikum Leipzig, Bereich Plastisc...  post-6007   \n1  2019-03-14  Die Klinik für Plastische Chirurgie, Hand- und...  post-5998   \n2  2019-03-14  Unsere renommierte Privatpraxis im Südwesten i...  post-5995   \n3  2019-03-14  Im Rahmen einer Stellennachbesetzung ist vorau...  post-5989   \n4  2019-03-13  Wir, die Alster-Klinik, sind eine Privatklinik...  post-5979   \n\n                                                Link  \\\n0  [<a href=\"https://www.dgpraec.de/jobs/facharzt...   \n1  [<a href=\"https://www.dgpraec.de/jobs/oberaerz...   \n2  [<a href=\"https://www.dgpraec.de/jobs/fachaerz...   \n3  [<a href=\"https://www.dgpraec.de/jobs/assisten...   \n4  [<a href=\"https://www.dgpraec.de/jobs/facharzt...   \n\n                                               Title  \n0                        Facharzt in Leipzig gesucht  \n1               Oberärztin/-arzt in Hannover gesucht  \n2  Fachärztin / Facharzt für Plastische & Ästheti...  \n3  Assistenzarzt/-ärztin Handchirurgie oder Plast...  \n4  Facharzt/in für Plastische und Ästhetische Chi...  \n",
          "name": "stdout"
        }
      ]
    },
    {
      "metadata": {
        "trusted": true
      },
      "cell_type": "code",
      "source": "#Every job has an ID. So our job is now to compare the current results (Job_list) with the old results (Job_list_old)\nstr(Job_list.ID) == str(Job_list_old.ID)\n#False means that there is a new job in the list\n#True means no new jobs",
      "execution_count": 99,
      "outputs": [
        {
          "output_type": "execute_result",
          "execution_count": 99,
          "data": {
            "text/plain": "True"
          },
          "metadata": {}
        }
      ]
    },
    {
      "metadata": {
        "trusted": true
      },
      "cell_type": "code",
      "source": "#Creation of the difference list for testing purposes\nJob_list_difference = pd.concat([Job_list_old,Job_list])\nJob_list_difference = Job_list_difference.reset_index()\nJob_list_difference = Job_list_difference.drop_duplicates(subset = ['ID'], keep=False)\nJob_list_difference = Job_list_difference.reset_index()\nJob_list_difference = Job_list_difference.drop(Job_list_difference.columns[[0, 1, 3, 4]], axis=1)\nJob_list_difference['Date'] = pd.to_datetime(Job_list_difference.Date).dt.strftime('%d-%m-%y')\nJob_list_difference.sort_values(by=['Date'])\nJob_list_difference",
      "execution_count": 100,
      "outputs": [
        {
          "output_type": "execute_result",
          "execution_count": 100,
          "data": {
            "text/plain": "Empty DataFrame\nColumns: [Date, Link, Title]\nIndex: []",
            "text/html": "<div>\n<table border=\"1\" class=\"dataframe\">\n  <thead>\n    <tr style=\"text-align: right;\">\n      <th></th>\n      <th>Date</th>\n      <th>Link</th>\n      <th>Title</th>\n    </tr>\n  </thead>\n  <tbody>\n  </tbody>\n</table>\n</div>"
          },
          "metadata": {}
        }
      ]
    },
    {
      "metadata": {
        "trusted": true
      },
      "cell_type": "code",
      "source": "#Setting up of the email variables\nme = 'sending email adress'\npassword = '***'\nserver = 'smtp.gmail.com:587'\nyou = 'receiver email adress'\n\n#The text\ntext = \"\"\"\nDear receiver,\n\nThis is the email to inform you about the new job(s):\n\n{table}\n\nRegards,\n\nThe sender\"\"\"\n\nhtml = \"\"\"\n<html><body><p>Dear receiver,</p>\n<p>This is the email to inform you about the new job(s)</p>\n{table}\n<p>Regards,</p>\n<p>Me</p>\n</body></html>\n\"\"\"",
      "execution_count": 95,
      "outputs": []
    },
    {
      "metadata": {
        "trusted": true
      },
      "cell_type": "code",
      "source": "#An algorithm could look like this\n\n#Check if the IDs are the same\nif str(Job_list.Title) == str(Job_list_old.Title):\n    print(\"Same - no email\")\nelse:\n    print(\"not same - email triggered\")\n    \n#Creation of difference list\n    Job_list_difference = pd.concat([Job_list_old,Job_list])\n    Job_list_difference = Job_list_difference.reset_index()\n    Job_list_difference = Job_list_difference.drop_duplicates(subset = ['Title'], keep=False)\n    Job_list_difference = Job_list_difference.reset_index()\n    Job_list_difference = Job_list_difference.drop(Job_list_difference.columns[[0, 1, 3, 4]], axis=1)\n    Job_list_difference['Date'] = pd.to_datetime(Job_list_difference.Date).dt.strftime('%d-%m-%y')\n    Job_list_difference.sort_values(by=['Date'])\n    Job_list_difference.to_csv('Output_difference.CSV',sep=',')\n    \n#Sending of email\n    with open('Output_difference.CSV', encoding='utf-8') as input_file:\n        reader = csv.reader(input_file)\n        data = list(reader)\n    \n    text = text.format(table=tabulate(data, headers=\"firstrow\", tablefmt=\"grid\"))\n    html = html.format(table=tabulate(data, headers=\"firstrow\", tablefmt=\"html\"))\n\n    message = MIMEMultipart(\n        \"alternative\", None, [MIMEText(text), MIMEText(html,'html')])\n\n    message['Subject'] = \"Your data\"\n    message['From'] = me\n    message['To'] = you\n    server = smtplib.SMTP(server)\n    server.ehlo()\n    server.starttls()\n    server.login(me, password)\n    server.sendmail(me, you, message.as_string())\n    server.quit()",
      "execution_count": 96,
      "outputs": [
        {
          "output_type": "stream",
          "text": "not same - email triggered\n",
          "name": "stdout"
        }
      ]
    },
    {
      "metadata": {
        "trusted": true
      },
      "cell_type": "code",
      "source": "#Finally we need to save the \"old\" results into a csv\nJob_list.to_csv('Output_old.CSV',sep=',')\n#IF the script is running daily we then have a reference point for the current data",
      "execution_count": 97,
      "outputs": []
    }
  ],
  "metadata": {
    "kernelspec": {
      "name": "python3",
      "display_name": "Python 3",
      "language": "python"
    },
    "language_info": {
      "mimetype": "text/x-python",
      "nbconvert_exporter": "python",
      "name": "python",
      "file_extension": ".py",
      "version": "3.5.4",
      "pygments_lexer": "ipython3",
      "codemirror_mode": {
        "version": 3,
        "name": "ipython"
      }
    }
  },
  "nbformat": 4,
  "nbformat_minor": 2
}